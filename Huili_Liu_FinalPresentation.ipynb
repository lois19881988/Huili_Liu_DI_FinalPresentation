{
 "cells": [
  {
   "cell_type": "markdown",
   "metadata": {},
   "source": [
    "# Introduction"
   ]
  },
  {
   "cell_type": "markdown",
   "metadata": {},
   "source": [
    "A movie poster is one of the most important communication tools between general audiences and movie creators. It sets the first impression in only seconds. "
   ]
  },
  {
   "cell_type": "markdown",
   "metadata": {},
   "source": [
    "<img src=\"Star_War_Poster.jpg\" width=\"200\">"
   ]
  },
  {
   "cell_type": "markdown",
   "metadata": {},
   "source": [
    "One significant element of movie poster design is the brightness of a poster. Different brightness can lead to different emotional reactions among audiences. Therefore, for some movie genres, there are certain stereotypical brightness patterns. For example, the posters for horror movies are often dark (see the new horror movie “IT”) and use black as the dominant color. With this type of design, audiences can feel the depressing and intense atmosphere just by looking at the poster. While comedies on the other hand are much lighter in their poster design (see the classic comedy “Home Alone”). A design with bright colors puts people at ease."
   ]
  },
  {
   "cell_type": "markdown",
   "metadata": {},
   "source": [
    "Horror|Comedy  \n",
    "- | - \n",
    "<img src=\"IT_Poster.jpg\" width=\"235\"> | <img src=\"Home_Alone_Poster.jpg\" width=\"200\">"
   ]
  },
  {
   "cell_type": "markdown",
   "metadata": {},
   "source": [
    "Sometimes an unconventional design can make audiences even more interested. The all-time classic thriller movie “The Silence of the Lambs” did not use the most common all dark poster, and instead used a large proportion of white with a small dark corner. "
   ]
  },
  {
   "cell_type": "markdown",
   "metadata": {},
   "source": [
    "<img src=\"Silence_Lamb_Poster.jpg\" width=\"200\">"
   ]
  },
  {
   "cell_type": "markdown",
   "metadata": {},
   "source": [
    "One cannot ascribe the success of a movie solely to the design of the poster, but for a multi-billion dollar industry where a small improvement could lead to a great return for investors, there is great merit in investigating the relationship between the brightness of a poster and the success of the movie. Specifically, when a poster’s brightness deviates from other movies with the same genre, would it be a positive or negative sign for a movie? \n",
    "As a result, this study strives to answer three research questions: <br>\n",
    "<br>\n",
    "1)\tWhich movie genre(s) has (/have) a preferred brightness design?<br>\n",
    "<br>\n",
    "2)\tDoes deviating from typical poster brightness design lead to a positive or negative effect on movie success? Does the result remain the same for each movie genre?<br>\n",
    "<br>\n",
    "3)\tDo the results for question 1) and 2) remain consistent over the years? \n"
   ]
  },
  {
   "cell_type": "markdown",
   "metadata": {},
   "source": [
    "# Method\n",
    "## Data\n",
    "**9,953 U.S released movies from 1971 to 2016**<br>\n",
    "**All data were scraped from IMDB (root URL: https://www.imdb.com/list/ls057823854/):**<br>\n",
    "Movie title<br>\n",
    "Release year<br>\n",
    "Movie genre<br>\n",
    "MPAA film rating (e.g., PG, PG-13, R)<br>\n",
    "Movie budget<br>\n",
    "Box-office gross<br>\n",
    "IMDB rating<br>\n",
    "Meta-score (i.e., critic rating)<br>\n",
    "Poster brightness index (i.e., Partially converting from RGB to HSV with only the \"V\" used. The mean of all pixels’ V values was defined as the brightness of that movie poster. A higher number implies a brighter design.)<br>\n",
    "## Analysis\n",
    "**Dependent variable**\n",
    "\n"
   ]
  },
  {
   "cell_type": "markdown",
   "metadata": {},
   "source": [
    "Static image captured in RStudio. Run above code to generate dynamically (runs about two hours on a typical laptop)."
   ]
  },
  {
   "cell_type": "markdown",
   "metadata": {},
   "source": [
    "![title](Q3_plot1.jpeg)"
   ]
  },
  {
   "cell_type": "markdown",
   "metadata": {},
   "source": [
    "The plot depicts the means of the two groups within each genra. Take \"Action\" as an example. The \"No\" group includes movies not containing \"Action\" as one of their tags, and the \"Yes\" group includes movies with the \"Action\" tag. Means that are significantly different between the two groups are labeled with a “*” sign. The brightness and the height of each bar in the plot reflect the mean brightness of that group: the higher or the brighter the bar, the higher the mean brightness of that group."
   ]
  },
  {
   "cell_type": "markdown",
   "metadata": {},
   "source": [
    "Similarly, static image captured in RStudio. Run above code to generate dynamically."
   ]
  },
  {
   "cell_type": "markdown",
   "metadata": {},
   "source": [
    "![title](Plots/Q3_plot2.jpeg)"
   ]
  },
  {
   "cell_type": "markdown",
   "metadata": {},
   "source": [
    "This plot is a series of scatterplots presenting correlation between the IMDB rating and the absolute deviance. Each sub-plot is different in grouping the data points, and every sub-plot represents one genre. The definition of 0 and 1 is the same as the definition of \"No\" and \"Yes above. "
   ]
  },
  {
   "cell_type": "code",
   "execution_count": null,
   "metadata": {},
   "outputs": [],
   "source": []
  }
 ],
 "metadata": {
  "kernelspec": {
   "display_name": "R",
   "language": "R",
   "name": "ir"
  },
  "language_info": {
   "codemirror_mode": "r",
   "file_extension": ".r",
   "mimetype": "text/x-r-source",
   "name": "R",
   "pygments_lexer": "r",
   "version": "3.4.3"
  }
 },
 "nbformat": 4,
 "nbformat_minor": 2
}
