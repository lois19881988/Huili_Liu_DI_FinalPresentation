{
 "cells": [
  {
   "cell_type": "markdown",
   "metadata": {},
   "source": [
    "# Another Secret of Successful Movies?"
   ]
  },
  {
   "cell_type": "markdown",
   "metadata": {},
   "source": [
    "A movie poster is one of the most important communication tools between general audiences and movie creators. It sets the first impression in only seconds. "
   ]
  },
  {
   "cell_type": "markdown",
   "metadata": {},
   "source": [
    "**Figure 1**\n",
    "<img src=\"Star_War_Poster.jpg\" width=\"200\">"
   ]
  },
  {
   "cell_type": "markdown",
   "metadata": {},
   "source": [
    "One significant element of movie poster design is the brightness of a poster. Different brightness can lead to different emotional reactions among audiences. Therefore, for some movie genres, there are certain stereotypical brightness patterns. For example, the posters for horror movies are often dark (see the new horror movie “IT”) and use black as the dominant color. With this type of design, audiences can feel the depressing and intense atmosphere just by looking at the poster. While comedies, on the other hand, are much lighter in their poster designs (see the classic comedy “Home Alone”). A design with bright colors puts audiences at ease."
   ]
  },
  {
   "cell_type": "markdown",
   "metadata": {},
   "source": [
    "**Figure 2**<br>"
   ]
  },
  {
   "cell_type": "markdown",
   "metadata": {},
   "source": [
    "Horror|Comedy  \n",
    "- | - \n",
    "<img src=\"IT_Poster.jpg\" width=\"235\"> | <img src=\"Home_Alone_Poster.jpg\" width=\"200\">"
   ]
  },
  {
   "cell_type": "markdown",
   "metadata": {},
   "source": [
    "Sometimes an unconventional design can make audiences even more interested. The all-time classic thriller movie “The Silence of the Lambs” did not use the most common all dark poster, and instead used a large proportion of white with a small dark corner. "
   ]
  },
  {
   "cell_type": "markdown",
   "metadata": {},
   "source": [
    "**Figure 3**<br>\n",
    "<img src=\"Silence_Lamb_Poster.jpg\" width=\"200\">"
   ]
  },
  {
   "cell_type": "markdown",
   "metadata": {},
   "source": [
    "One cannot ascribe the success of a movie solely to the design of the poster, but for a multi-billion dollar industry where a small improvement could lead to a great return for investors, there is great merit in investigating the relationship between the brightness of a poster and the success of the movie. Specifically, when a poster’s brightness deviates from other movies with the same genre, would it be a positive or negative sign for a movie? \n",
    "As a result, this study strives to answer three research questions, and an earlier research question serves as the premise of the next one: <br>\n",
    "<br>\n",
    "1)\tWhich movie genre(s) has (/have) a preferred brightness design?<br>\n",
    "<br>\n",
    "2)\tDoes deviating from typical poster brightness design lead to a positive or negative effect on movie success? Does the result remain the same for each movie genre?<br>\n",
    "<br>\n",
    "3)\tDo the results for question 1) and 2) remain consistent over the years? \n"
   ]
  },
  {
   "cell_type": "markdown",
   "metadata": {},
   "source": [
    "# Method\n",
    "## Data\n",
    "**9,953 U.S released movies from 1971 to 2016**<br>\n",
    "<br>\n",
    "**All data were scraped from a large number of IMDB webpages**<br>\n",
    "<br>\n",
    "**10,000 imgages were downloaded and analized.<br>\n",
    "100 html files each containing 100 movies were downloaded and analyzed.<br>\n",
    "Another 10,000 html files will be downlowed and analyzed for the complete study.<br>\n",
    "So far, 800 MB data has been collected, cleaned, and analyzed.<br>**\n",
    "<br>\n",
    "Movie title<br>\n",
    "Release year<br>\n",
    "Movie genre<br>\n",
    "MPAA film rating (e.g., PG, PG-13, R)<br>\n",
    "Movie budget<br>\n",
    "Box-office gross<br>\n",
    "IMDB rating<br>\n",
    "Meta-score (i.e., critic rating)<br>\n",
    "Poster brightness index (i.e., Partially converting from RGB to HSV with only the \"V\" used. The mean of all pixels’ V values was defined as the brightness of that movie poster. A higher number implies a brighter design.)<br>\n",
    "## Analysis\n",
    "**Dependent variable**<br>\n",
    "Box-office gross<br>\n",
    "Movie profit: $BoxOffice - Budget$<br>\n",
    "IMDB rating<br>\n",
    "Meta-score<br>\n",
    "**Independent variable**<br>\n",
    "Absolute deviance from the expected brightness (Absolute Deviance)<br>\n",
    "\n",
    "\\begin{align}\n",
    "AbsoluteDeviance & = \\left|Brt_{iG_{1...J}}-E(Brt_{iG_{1...J}})\\right| \\\\\n",
    " & = \\left|Brt_{iG_{1...J}}-\\frac{\\sum_{G=1}^J(\\overline{Brt_j})}{J}\\right| \n",
    "\\end{align}\n",
    "\n",
    "where $Brts_{iG_{1...J}}$ means the actual brightness of movie $i$ with genre tags of genre $1$ to $J$, $\\overline{Brt_j}$ mean the average brightness of movie genre $j$.<br>\n",
    "**Covariate**<br>\n",
    "Release year<br>\n",
    "Movie genre indicators: each movie has 22 genre indicators <br>\n",
    "MPAA film rating (e.g., PG, PG-13, R)<br>\n",
    "\n",
    "\n",
    "\n",
    "\n"
   ]
  },
  {
   "cell_type": "markdown",
   "metadata": {},
   "source": [
    "# Preliminary Result\n",
    "**Step 1**\n",
    "Linear regression for each genre indicator: If there is a significant difference in poster brightness for movies with that genre indicator variable as 1 and movies with that variable as 0. <br>\n",
    "<br>\n",
    "14 genres have a significant difference on their poster brightness between the “1” and “0” groups: Crime, Action, Adventure, Sci-fi, Fantasy, Comedy, Family, Thriller, Animation, Mystery, Horror, Sport, Romance, and History. "
   ]
  },
  {
   "cell_type": "markdown",
   "metadata": {},
   "source": [
    "**Figure 4**<br>\n",
    "<img src=\"Q3_plot1.jpeg\" width=\"600\">"
   ]
  },
  {
   "cell_type": "markdown",
   "metadata": {},
   "source": [
    "*Note*: * different mean brightness across the two groups within one genre.<br> \n",
    "The brightness and height of each bar in the plot reflect the mean brightness for that group."
   ]
  },
  {
   "cell_type": "markdown",
   "metadata": {},
   "source": [
    "**Step 2** Regressing the four different dependent variables on Deviance controlling the 22 genre indicators as control variables. <br>\n",
    "<br>\n",
    "*Without controlling for the genre.* The prediction of the absolute deviance on movie rating is significant. The more absolute deviation is associated with a higher rating. \n",
    "\n",
    "\n",
    "\n"
   ]
  },
  {
   "cell_type": "markdown",
   "metadata": {},
   "source": [
    "**Figure 5**<br>\n",
    "<img src=\"overall.png\" width=\"500\">"
   ]
  },
  {
   "cell_type": "markdown",
   "metadata": {},
   "source": [
    "*With controlling for the genre.* 22 scatterplots for each genre. Some genres showed positive correlation; some did not."
   ]
  },
  {
   "cell_type": "markdown",
   "metadata": {},
   "source": [
    "**Figure 6**<br>\n",
    "<img src=\"g1_4.png\" width=\"800\">\n",
    "<img src=\"g5_8.png\" width=\"800\">\n",
    "<img src=\"g9_12.png\" width=\"800\">\n",
    "<img src=\"g13_16.png\" width=\"800\">\n",
    "<img src=\"g17_20.png\" width=\"800\">\n",
    "<img src=\"g21_22.png\" width=\"800\">"
   ]
  },
  {
   "cell_type": "markdown",
   "metadata": {},
   "source": [
    "**Step 3** The preliminary results reveal a surprising trend between poster brightness and movie rating. More investigation on other variables and more examination with better control are necessary to uncover additional meaningful results. "
   ]
  },
  {
   "cell_type": "markdown",
   "metadata": {},
   "source": [
    "# I have a story about...\n",
    "I found, with statistical proof, that love and laugh are light, horror and sin are dark (at least the posters are). I also found out-of-the-box action may actually work for your audience, especially regarding certain topics. \n",
    "\n",
    "This summer, I have a story about laughers and tears, romance and crime, the future and the past, and most importantly, Data Science and Hollywood. The more you look at those images, the more secrets you will find. Let me tell you more in July.   "
   ]
  }
 ],
 "metadata": {
  "kernelspec": {
   "display_name": "R",
   "language": "R",
   "name": "ir"
  },
  "language_info": {
   "codemirror_mode": "r",
   "file_extension": ".r",
   "mimetype": "text/x-r-source",
   "name": "R",
   "pygments_lexer": "r",
   "version": "3.4.3"
  }
 },
 "nbformat": 4,
 "nbformat_minor": 2
}
